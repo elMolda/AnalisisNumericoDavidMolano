{
 "cells": [
  {
   "cell_type": "markdown",
   "metadata": {},
   "source": [
    "#Proyecto de Análisis Númerico - Interpolación de Curvas Paramétricas\n",
    "##Presentado por: David Molano y Dorian Moreno\n",
    "###Pontificia Universidad Javeriana 2018\n",
    "\n",
    "####Objetivo\n",
    "En este proyecto se prentende crear una función que será parte de una libreria con utilidades de análisis númerico para el lenguaje de programación R. La función que se implementará permite realizar interpolación de curvas descritas de forma paramétrica.\n",
    "\n",
    "####Problema\n",
    "La función que se quiere implementar debe recibir un conjunto de coordenadas ${(x,y)}$ y los valores de una tercera variable ${t}$ llamada parámetro. Dadas estas entradas la salida esperad son dos polinomios ${x=f(t)}$ y ${y=g(t)}$ que interpolan dichas coordenadas en función del parámetro.\n",
    "A continuación se hace un respaso teorico de las curvas paramétricas y del método de interpolación que se va a utilizar para calcular las salidas.\n",
    "\n",
    "####Curvas Paramétricas\n",
    ">Las curvas paramétricas permiten describir curvas que no pueden ser representadas por una función de la forma ${y=f(x)}$. Pero teniendo un conjunto de coordenadas $x$ , $y$ que sean funciones del tiempo $t$ se pueden escribir de la forma ${x=f(t)}$ y ${y=g(t)}$. Asi pues, dadas dos funciones $x$ y $y$ de un una tercera variable $t$ llamada parámetro mediante las ecuaciones anteriormente descritas cada valor de $t$ determina un punto ${(x,y)}$ que se puede representar en un sistema coordenado. Cuando _t_ varia ${(x,y)=(f(t),g(t))}$ varía y traza una curva $C$, a la cual se le llama curva paramétrica. ( _Tomado de \"Cálculo de Una variable\". Stewart. 2008._ )\n",
    "\n",
    "####Interpolación polinómica de Lagrange\n",
    ">Con la intención de obtener los polinomios de la forma ${x=f(t)}$ y ${y=g(t)}$ se utilizará la interpolación de Lagrange. Este método permite encontrar el polinomio interpolante de un conjunto de puntos dado. \n",
    "Se define formalmente asi:\n",
    "Dado un conjunto de _k_ + 1 puntos ${(x_{0},y_{0}),....,(x_{k},y_{k})}$ donde todos los ${x_{j}}$ se asumen distintos, el polinomio interpolador de Lagrange es la combinación lineal ${L(x)=\\sum_{j=0}^{k}y_{j}\\ell_{j}(x)}$ de bases polinómicas de Lagrange ${\\ell_{j}(x)=\\prod_{i=0,i\\neq j}^{k}\\frac{x-x_{i}}{x_{j}-x_{i}}=\\frac{x-x_{0}}{x_{j}-x_{0}}...\\frac{x-x_{j-1}}{x_{j}-x_{j-1}}...\\frac{x-x_{k}}{x_{j}-x_{k}}}$. ( _Tomado de \"Análisis Númerico\". Burden. 2011._ )\n",
    "\n",
    "####Solución\n",
    "En su libro de Análisis Númerico, Burden propone que para aproximar curvas parámetricas se puede utilizar el método de Lagrange. Para esto, el problema se resume a realizar dos interpolaciones. Para esto se deben construir dos conjuntos de puntos a partir de los dados. El primer conjunto  es el que produce el polinomio ${x=f(t)}$ y el conjunto debe ser ${(t_{0},x_{0}),...,(t_{k},x_{k})}$. El segundo conjunto que produce el polinomio ${y=g(t)}$ es ${(t_{0},y_{0}),...,(t_{k},y_{k})}$. De esta manera se puede obtener una curva definida de forma paramétrica para los puntos dados."
   ]
  },
  {
   "cell_type": "code",
   "execution_count": null,
   "metadata": {},
   "outputs": [],
   "source": []
  }
 ],
 "metadata": {
  "kernelspec": {
   "display_name": "R",
   "language": "R",
   "name": "ir"
  },
  "language_info": {
   "codemirror_mode": "r",
   "file_extension": ".r",
   "mimetype": "text/x-r-source",
   "name": "R",
   "pygments_lexer": "r",
   "version": "3.5.1"
  }
 },
 "nbformat": 4,
 "nbformat_minor": 2
}
