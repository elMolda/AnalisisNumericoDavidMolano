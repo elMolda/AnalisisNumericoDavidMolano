{
 "cells": [
  {
   "cell_type": "markdown",
   "metadata": {},
   "source": [
    "#**Taller 1 Análisis Numérico**\n",
    "\n",
    "##Presentado por: David Molano y Federico Torres\n",
    "\n",
    "####Martes 7 de Agosto de 2018\n"
   ]
  },
  {
   "cell_type": "markdown",
   "metadata": {},
   "source": [
    "**1 A)** Utilizar el algoritmo de Horner para evaluar el para evaluar el polinomio.\n",
    "\n",
    "La operación de evaluar polinomios es una de las mas básicas que un ingeniero utiliza. Consiste en dado un determinado ${X}$ evaluar el polinomio ${p(X)=C_{n}X^{n}+C_{n-1}X^{n-1}+...+C_{1}X+C_{0}}$. El método usual para evaluar este polinomio seria evaluar cada producto del polinomio y luego sumar cada uno de los resultados. Esta operación a nivel computacional puede llegar a ser bastante pesada, el algoritmo de Horner propone una solución con menor costo computacional.\n",
    "\n",
    "El algoritmo de Horner permite evaluar polinomios de la forma descrita anteriormente como si se tratase de un monomio. Es decir, se reescribe el polinomio ${p(X)=C_{n}X^{n}+C_{n-1}X^{n-1}+...+C_{1}X+C_{0}}$ de la forma ${{(...((C_{m}C+C_{n-1})X+C_{n-2}X....)X+C_{0}}}$\n",
    "\n",
    "Se muestra la implementación del algoritmo en el lenguaje de programación R."
   ]
  },
  {
   "cell_type": "code",
   "execution_count": 7,
   "metadata": {},
   "outputs": [
    {
     "name": "stdout",
     "output_type": "stream",
     "text": [
      "[1] 9474\n",
      "[1] 5\n",
      "[1] 5\n"
     ]
    }
   ],
   "source": [
    "#Metodo de Horner\n",
    "x <- 7 #valor con el que se quiere evaluar el polinomio\n",
    "coeficientes <- c(4,0,-3,3,-4) #vector de coeficientes del polinimio\n",
    "resultado <- 0 # variable que almacenara el resultado\n",
    "sumas <- 0 #contador de sumas hechas\n",
    "multiplicaciones <- 0 #contador de multiplicaciones hechas\n",
    "for (i in 1: length(coeficientes)){# para cada coeficiente\n",
    "  resultado <- resultado * x \n",
    "  multiplicaciones <- multiplicaciones + 1\n",
    "  resultado <- resultado + coeficientes[i] # se realiza la operacion del metodo de horner\n",
    "  sumas <- sumas + 1\n",
    "\n",
    "}\n",
    "print(resultado)#vemos el resultado obtenido\n",
    "print(sumas)\n",
    "print(multiplicaciones)"
   ]
  },
  {
   "cell_type": "markdown",
   "metadata": {},
   "source": [
    "**2** Se necesita un recipiente rectangular, sin tapa, de un litro de capacidad. Para construirlo se debe usar una lámina rectangular de 32 cd de largo y 24 cm de ancho. El procedimiento será recortar un cuadrado idéntico en cada una de las cuatro esquinas y doblar los bordes de la lámina para formar el recipiente.\n",
    "Determine la medida del lado del caudrado que se debe recortar en cada esquina para que el recipiente tenga la capacidad requerida.\n",
    "\n",
    "**A)** ¿Cuál etapa del proceso de un problema númerico requiere más atención?\n",
    "\n",
    "**Respuesta:** La etapa del proceso que requiere más atención es la parte en la que se establecen las condiciones de parada de las iteraciones necesarias para realizar la aproximación al valor real.\n",
    "\n",
    "**B)** ¿Qué conocimientos son necesarios para formular un modelo matemático?\n",
    "\n",
    "**Respuesta:** Para formular un modelo matemático es necesario conocer previamente el planteamiento del problema que se desea solucionar y sus restricciones. Posteriormente, haciendo uso de conocimientos ya adquiridos en matemáticas, es posible proponer un modelo que se ajuste a la solución buscada.\n",
    "\n",
    "\n",
    "**C)** ¿Cuál seria la desventaja de intentar obtener experimentalmente la solución mediante prueba y error en lugar de analizar el modelo?\n",
    "\n",
    "**Respuesta:** La desventaja de intentar obtener experimentalmente la solución mediante prueba y error, es la ineficiencia en el uso del tiempo y los recursos. Los métodos matemáticos permiten hacer uso de teoremas fundamentales para enfocar la búsqueda de la solución al problema en un rango menos amplio que el de de todos los números reales, y aplicar propiedades matemáticas que optimizan el tiempo requerido para obtener una solución.\n",
    "\n",
    "**D)** ¿Qué es mas crítico: el error de truncamiento o de redondeo?\n",
    "\n",
    "**Respuesta:** La respuesta a qué tipo de error puede ser más crítico depende completamente del tipo de problema que se desea resolver. Por ejemplo, si el problema requiere de muchas operaciones algebraicas, los errores de truncamiento pueden dar lugar a un mayor error en el resultado final, en cambio, los errores por redondeo resultan de realizar aproximaciones en vez de utilizar procedimientos matemáticos exactos. Por lo anterior, el escenario óptimo es equilibrar los errores de redondeo y los de truncamiento.\n",
    "\n",
    "**E)** ¿Cuál es la ventaja de instrumentar computacionalmente un método numérico?\n",
    "\n",
    "**Respuesta:** La principal ventaja de la implementación computacional es la rapidez y exactitud con la que se ejecutan los métodos iterativos para hallar una solución al problema, así como la posibilidad de poder eliminar otro tipo de errores de tipo humano que podrían suceder si el procedimiento se hiciera a mano.\n",
    "\n",
    "**F)** ¿Por qué es impotante validar los resultados obtenidos?\n",
    "\n",
    "**Respuesta:** Es importante valorar los resultados para verificar que los datos obtenidos sean efectivamente los que se están buscando y que resulven adecuadamente el problema propuesto. \n"
   ]
  },
  {
   "cell_type": "code",
   "execution_count": 2,
   "metadata": {},
   "outputs": [
    {
     "name": "stdout",
     "output_type": "stream",
     "text": [
      "X= 8.75 \tE= 1.25 \n",
      "X= 8.125 \tE= 0.625 \n",
      "X= 7.8125 \tE= 0.3125 \n",
      "X= 7.96875 \tE= 0.15625 \n",
      "X= 8.046875 \tE= 0.078125 \n",
      "X= 8.085938 \tE= 0.0390625 \n",
      "X= 8.105469 \tE= 0.01953125 \n",
      "X= 8.095703 \tE= 0.009765625 \n",
      "X= 8.09082 \tE= 0.004882812 \n",
      "X= 8.093262 \tE= 0.002441406 \n",
      "---------------------------------------------------------------------------\n",
      "x_k                   f(x_k)              Error est.           \n",
      "---------------------------------------------------------------------------\n",
      " 8.263605000028161  11.130353108205782  0.236394999971840 \n",
      " 8.214653189373260  7.912217728147311  0.048951810654900 \n",
      " 8.145056586224513  3.364734975628267  0.069596603148747 \n",
      " 8.174653108065217  5.294486181364164  0.029596521840703 \n",
      " 8.128082315109143  2.260787284205321  0.046570792956074 \n",
      " 8.118139267481496  1.615091808549892  0.009943047627648 \n",
      " 8.146552263056318  3.462107512958141  0.028412995574822 \n",
      " 8.131325753187886  2.471569114337058  0.015226509868433 \n",
      " 8.087845449506835 -0.347701827351443  0.043480303681050 \n",
      " 8.093962284741584  0.048072282631779  0.006116835234750 \n",
      " 8.093539436471765  0.020704003793071  0.000422848269819 \n",
      "---------------------------------------------------------------------------\n",
      "Se alcanzó el máximo número de iteraciones.\n",
      "k =  11 Estado: x =  8.09353943647177 Error estimado <=  0.000422848269819"
     ]
    }
   ],
   "source": [
    "# Halla la raíz de f (una función definida en R) en el intervalo [a,b]\n",
    "biseccion <- function(f,a,b) {\n",
    "  if(f(a)*f(b) < 0) {\n",
    "    # Definimos los valores iniciales de m, n y un 'error'\n",
    "    # que mide la amplitud del intervalo sobre el que trabajamos.\n",
    "    m = (a+b)/2 ; n = 0; error<-abs(a-b)/2\n",
    "    \n",
    "    while (error > 1.e-8 & n < 10) { # \"Doble-tolerancia\" del método\n",
    "      n<-n+1\n",
    "      if (f(m) == 0) break # Si el cero esta en el medio de [a,b] paro.\n",
    "      if (f(m)*f(a) < 0) {b = m} else {a = m} # La regla antes planteada.\n",
    "      m = (a+b)/2 # Redefino el intervalo con los valores actualizados.\n",
    "      \n",
    "      # Genero output en pantalla del método:\n",
    "      \n",
    "      error = abs(a-b)/2\n",
    "      cat(\"X=\",m,\"\\tE=\",error,\"\\n\")\n",
    "    } # Fin del while()\n",
    "  } else {\n",
    "    print(\"Los limites no encierran la raiz!\")\n",
    "  }\n",
    "}# Fin de la función biseccion().\n",
    "\n",
    "f<-function(x) 250-192*x+28*x**(2)-x**3\n",
    "biseccion(f,5,10)\n",
    "\n",
    "#Solución mediante Newton:\n",
    "\n",
    "newton = function(f,x0, tol, maxiter){\n",
    "    #Calculo de la derivada numericamente, por definicion de limite\n",
    "    fp = function(x) { h = 1e-15\n",
    "                        (f(x+h) - f(x-h)) / (2*h)\n",
    "                     }\n",
    "k = 0\n",
    "#Par imprimir estado\n",
    "cat(\"---------------------------------------------------------------------------\\n\")\n",
    "cat(formatC( c(\"x_k\",\" f(x_k)\",\"Error est.\"), width = -20, format = \"f\", flag = \" \"), \"\\n\")\n",
    "cat(\"---------------------------------------------------------------------------\\n\")\n",
    "repeat{\n",
    "    correccion = f(x0)/fp(x0)\n",
    "    x1 = x0 - correccion\n",
    "    dx = abs(correccion)\n",
    "# Imprimir iteraciones\n",
    "    cat(formatC( c(x1 ,f(x1), dx), digits=15, width = -15, format = \"f\", flag = \" \"), \"\\n\")\n",
    "    x0 = x1\n",
    "    k = k+1\n",
    "    # until\n",
    "    if(dx <= tol || k > maxiter ) break;\n",
    "}\n",
    "cat(\"---------------------------------------------------------------------------\\n\")\n",
    "if(k > maxiter){\n",
    "    cat(\"Se alcanzó el máximo número de iteraciones.\\n\")\n",
    "    cat(\"k = \", k,\"Estado: x = \", x1, \"Error estimado <= \", correccion)\n",
    "} else {\n",
    "    cat(\"k = \", k, \" x =\", x1, \" f(x) = \", f(x1), \" Error estimado <= \", correccion) }\n",
    "}\n",
    "\n",
    "f = function(x) 250-192*x+28*x**(2)-x**3\n",
    "options(digits = 15)\n",
    "newton(f, 8.5, 1e-10, 10)\n"
   ]
  },
  {
   "cell_type": "markdown",
   "metadata": {},
   "source": [
    "**4** Suponga que un dispositivo solo puede almacenar  únicamente los cuatro primeros dígitos decimales de cada número  real,  y  trunca  los  restantes  (esto  es  redondeo  inferior).  Calcule  el  error  de  redondeo  si  se  quiere almacenar el número 536.78. \n",
    "\n",
    "**Respuesta:** En general si n es la cantidad de enteros del número normalizado    con potencias de 10 y m es la cantidad de cifras decimales que se pueden almacenar en el dispositivo, entonces si se truncan los decimales sin ajustar la cifra anteriro, el error de redondeo se da por la siguiente ecuación:\n",
    "$${|E|<1*10^{n-m}}$$\n",
    "A continuacíon se muestra la implementación de este calculo en lenguaje R."
   ]
  },
  {
   "cell_type": "code",
   "execution_count": 1,
   "metadata": {},
   "outputs": [
    {
     "name": "stdout",
     "output_type": "stream",
     "text": [
      "Ingrese numero: 536.78\n",
      "Ingrese memoria: 4\n",
      "[1] 0.1\n"
     ]
    }
   ],
   "source": [
    "######ERROR DE RENDONDEO ABSOLUTO########\n",
    "error_absoluto <- function(f,m){\n",
    "  n <- floor(log10(f)) + 1 #n es la cantidad de enteros en el numero ingresado\n",
    "  return(1 * 10^(n-m))#se aplica la formula descrita\n",
    "}\n",
    "\n",
    "f <- readline(prompt=\"Ingrese numero: \")\n",
    "m <- readline(prompt=\"Ingrese memoria: \")#m es la la memoria disponible en el dispositivo\n",
    "f <- as.double(f)\n",
    "m <- as.double(m)\n",
    "print(error_absoluto(f,m))"
   ]
  },
  {
   "cell_type": "markdown",
   "metadata": {},
   "source": [
    "**6** Eficiencia del algortirmo\n",
    "\n",
    "**A)** Recorra el algoritmo con n = 73\n",
    "\n",
    "**B)** Suponga que T(n) representa la cantidad de operaciones aritméticas de división que se realizan para resolver el problema de tamaño n. Encuentre T(n) y exprése con la notación O. Para obtener T(n) observe el hecho de que en cada ciclo el valor de n se reduce aproximadamente a la mitad.\n",
    "\n",
    "**Respuesta** \n",
    "La cantidad de operaciones aritméticas de división T(n) es de 7 para el caso de n=73, y en general, dado que en cada iteración el valor de n se reduce prácticamente a la mitad, el orden de convergencia es de O(log2(n)). "
   ]
  },
  {
   "cell_type": "code",
   "execution_count": 5,
   "metadata": {},
   "outputs": [
    {
     "name": "stdout",
     "output_type": "stream",
     "text": [
      "Ingrese numero: 73\n",
      "[1] 1\n",
      "[1] 0\n",
      "[1] 0\n",
      "[1] 1\n",
      "[1] 0\n",
      "[1] 0\n",
      "[1] 1\n",
      "T(n) = O(log2(n))Numero de iteraciones:  7"
     ]
    }
   ],
   "source": [
    "f = function(n) {\n",
    "  t<-0\n",
    "  while(n>0) {\n",
    "    d<-n%%2\n",
    "    n<-floor(n/2)\n",
    "    t<-t+1\n",
    "    print(d)\n",
    "  }\n",
    "  return(t)\n",
    "}\n",
    "n <- readline(prompt=\"Ingrese numero: \")\n",
    "n <- as.integer(n)\n",
    "t = f(n)\n",
    "cat(\"T(n) = O(log2(n))\")\n",
    "cat(\"Numero de iteraciones: \",t)\n"
   ]
  },
  {
   "cell_type": "markdown",
   "metadata": {},
   "source": [
    "**8** Resuelva por dos metodos diferentes, graficar las soluciones y comparar. Encuentre una intersección de las siguientes ecuaciones en coordenadas polares: ${r=2+cos(3t),r=2-e^{t}}$"
   ]
  },
  {
   "cell_type": "markdown",
   "metadata": {},
   "source": [
    "**10** Implemente el algoritmo de Newton\n",
    "\n",
    "**Respuesta:** \n",
    "El método de Newton, sirve para calcular raices de funciones no lineales y e uno de los que tiene mejor velocidad de convergencia.\n",
    "Si ${f}$ es una función tal que ${f}$,${f^{'}}$ y ${f^{''}}$ existen y son continuas en un intervalo ${I}$ y si un cero ${X}$ de ${f}$,  se puede construir una sucesión de aprocimaciones que converge a ${X}$ de tal forma que ${0=f(x_{0}+h)\\approx f(x_{0})+hf^{'}(x_{0})}$. Para deterner la ejecución del algoritmo se tiene un número máximo de iteraciones y se utiliza el estimador de error ${|x_{k+1}-x_{k}|}$. Se ve aqui la implementación del algoritmo en lenguaje R."
   ]
  },
  {
   "cell_type": "code",
   "execution_count": 2,
   "metadata": {},
   "outputs": [
    {
     "name": "stdout",
     "output_type": "stream",
     "text": [
      "---------------------------------------------------------------------------\n",
      "x_k                   f(x_k)              Error est.           \n",
      "---------------------------------------------------------------------------\n",
      " 0.751923064449049  0.021546382990783  0.251923064449049 \n",
      " 0.738984893461253 -0.000167758744663  0.012938170987796 \n",
      " 0.739085629223913  0.000000830126305  0.000100735762660 \n",
      " 0.739085130749710 -0.000000004126207  0.000000498474203 \n",
      " 0.739085133147489 -0.000000000113256  0.000000002397779 \n",
      " 0.739085133215497  0.000000000000563  0.000000000068008 \n",
      "---------------------------------------------------------------------------\n",
      "k =  6  x = 0.739085133215497  f(x) =  5.62883073484954e-13  Error estimado <=  -6.80078666666667e-11"
     ]
    }
   ],
   "source": [
    "newton = function(f,x0, tol, maxiter){\n",
    "\t#Calculo de la derivada numericamente, por definicion de limite\n",
    "fp = function(x) {\n",
    "        h = 1e-15(f(x+h) - f(x-h)) / (2*h)\n",
    "    }\n",
    "k = 0\n",
    "cat(\"---------------------------------------------------------------------------\\n\")\n",
    "cat(formatC( c(\"x_k\",\" f(x_k)\",\"Error est.\"), width = -20, format = \"f\", flag = \" \"), \"\\n\")\n",
    "cat(\"---------------------------------------------------------------------------\\n\")\n",
    "repeat{\n",
    "\tcorreccion = f(x0)/fp(x0)\n",
    "\tx1 = x0 - correccion\n",
    "\tdx = abs(correccion)\n",
    "\tcat(formatC( c(x1 ,f(x1), dx), digits=15, width = -15, format = \"f\", flag = \" \"), \"\\n\")\n",
    "\tx0 = x1\n",
    "\tk = k+1\n",
    "\t# until\n",
    "\tif(dx <= tol || k > maxiter ) break;\n",
    "}\n",
    "cat(\"---------------------------------------------------------------------------\\n\")\n",
    "if(k > maxiter){\n",
    "\tcat(\"Se alcanzó el máximo número de iteraciones.\\n\")\n",
    "\tcat(\"k = \", k,\"Estado: x = \", x1, \"Error estimado <= \", correccion)\n",
    "} else {\n",
    "\tcat(\"k = \", k, \" x =\", x1, \" f(x) = \", f(x1), \" Error estimado <= \", correccion) }\n",
    "}\n",
    "\n",
    "f = function(x) x-cos(x)\n",
    "options(digits = 15)\n",
    "newton(f, 0.5, 1e-10, 10)"
   ]
  },
  {
   "cell_type": "markdown",
   "metadata": {},
   "source": [
    "**14** El siguiente es un procedimiento intuitivo para calcular una raíz real positiva de la ecuacion ${f(x)=0}$ en un intervalo $[a,b]$ con precisión ${E}$:\n",
    "A partir de ${x=a}$ evalúe ${f(x)}$ incrementando ${x}$ en un valor ${d}$. Inicialmente ${d=(b-a)/10}$. Cuando ${f(x)}$ cambie de signo, retroceda ${x}$ al punto anterior ${x-d}$, reduzca ${d}$ al valor ${d/10}$ y evalúe nuevamente ${f(x)}$ hasta que cambie de signo. Repita el procedimiento hasta que ${d}$ sea menor que ${E}$.\n",
    "\n",
    "**A)** De manera formal escriba las condiciones necesarias para que la raíz exista, sea la única y pueda ser calculada.\n",
    "\n",
    "**Respuesta** \n",
    "La función debe ser continua y cambiar de signo en el intervalo [a,b] y su derivada no debe cambiar de signo en dicho intervalo.\n",
    "\n",
    "**B)** Indique el orden de convergencia y estrime el factor de convergencia del método.\n",
    "\n",
    "**Respuesta** El orden de convergencia es lineal porque solo hay un ciclo en la ejecución.\n",
    "\n",
    "**C)** Implementelo en un lenguaje de programación."
   ]
  },
  {
   "cell_type": "code",
   "execution_count": 6,
   "metadata": {},
   "outputs": [
    {
     "name": "stdout",
     "output_type": "stream",
     "text": [
      "--------------------------------------------------------------\n",
      " x                    f(x)                \n",
      "--------------------------------------------------------------\n",
      "-8.0000000e-01       -2.0480000e+00       \n",
      "-6.0000000e-01       -8.6400000e-01       \n",
      "-4.0000000e-01       -2.5600000e-01       \n",
      "-2.0000000e-01       -3.2000000e-02       \n",
      "-5.5511151e-17       -6.8422777e-49       \n",
      " 2.0000000e-01        3.2000000e-02       \n",
      "-5.5511151e-17       -6.8422777e-49       \n",
      " 2.0000000e-02        3.2000000e-05       \n",
      "-5.5511151e-17       -6.8422777e-49       \n",
      " 2.0000000e-03        3.2000000e-08       \n",
      "-5.5511151e-17       -6.8422777e-49       \n",
      " 2.0000000e-04        3.2000000e-11       \n",
      "-5.5511151e-17       -6.8422777e-49       \n",
      " 2.0000000e-05        3.2000000e-14       \n",
      "-5.5511151e-17       -6.8422777e-49       \n",
      " 2.0000000e-06        3.2000000e-17       \n",
      "-5.5511151e-17       -6.8422777e-49       \n",
      " 2.0000000e-07        3.2000000e-20       \n",
      "-5.5511151e-17       -6.8422777e-49       \n",
      "--------------------------------------------------------------\n",
      "Se emplearon:  12  iteraciones \n",
      "--------------------------------------------------------------\n",
      "-5.5511151e-17       -6.8422777e-49       \n"
     ]
    }
   ],
   "source": [
    "raiz <- function(f,a,b,E=1e-7){\n",
    "\n",
    "\td <- (b-a)/10\n",
    "\tx <- a\n",
    "\tfactual <- f(x)\n",
    "\tfpasado <- f(x)\n",
    "\tk <- 0\n",
    "\tcat(\"--------------------------------------------------------------\\n\")\n",
    "\tcat(formatC( c(\" x\",\" f(x)\"), width = -20, format = \"f\", flag = \" \"), \"\\n\")\n",
    "\tcat(\"--------------------------------------------------------------\\n\")\n",
    "\n",
    "\twhile(d > E){\n",
    "\t\tk <- k+1\n",
    "\t\tx <- x + d\n",
    "\t\tfactual <- f(x)\n",
    "\t\tcat(formatC( c(x,f(x)), digits=7, width = -20, format = \"e\", flag = \" \"), \"\\n\")\n",
    "\t\tif(signo(factual)!=signo(fpasado)){#cambio de signo\n",
    "\t\t\tx <- x-d\n",
    "\t\t\td <- d/10\n",
    "\t\t\tfactual <- f(x)\n",
    "\t\t\tcat(formatC( c(x,f(x)), digits=7, width = -20, format = \"e\", flag = \" \"), \"\\n\")\n",
    "\t\t}\n",
    "\t\tfpasado <- factual\n",
    "\t\t\t\t\n",
    "\t}\n",
    "\tcat(\"--------------------------------------------------------------\\n\")\n",
    "\tcat(\"Se emplearon: \",k,\" iteraciones\",\"\\n\")\n",
    "\tcat(\"--------------------------------------------------------------\\n\")\n",
    "\treturn(x)\n",
    "}\n",
    "\n",
    "signo <- function(n){\n",
    "\tif(n>0){\n",
    "\t\treturn(1)\n",
    "\t}else{\n",
    "\t\treturn(0)\n",
    "\t}\n",
    "}\n",
    "\n",
    "f <- function(x) 4*x^3\n",
    "x <- raiz(f,-1,1)\n",
    "cat(formatC( c(x,f(x)), digits=7, width = -20, format = \"e\", flag = \" \"), \"\\n\")"
   ]
  },
  {
   "cell_type": "markdown",
   "metadata": {},
   "source": [
    "**15** Se propone resolver la ecuacion ${\\intop_{0}^{x}(5-e^{u})du=2}$ con el método del punto fijo.\n",
    "\n",
    "**A)** Obtenga la ecuación ${f(x)=0}$ resolviendo la integral.\n",
    "**Respuesta:**\n",
    "$${\\intop_{0}^{x}(5-e^{u})du}$$\n",
    "$${\\intop 5 du - \\intop e^{u}du}$$\n",
    "$${5u-e^{u}}$$\n",
    "$${5u-e^{u}\\mid_{0}^{x}}$$\n",
    "$${5x-e^{x}+1=2}$$\n",
    "$${5x-e^{x}+1-2=0}$$\n",
    "$${5x-e^{x}-1=0}$$\n",
    "\n",
    "**B)** Mediante un grafico aproximado localice las raíces.\n",
    "**Respuesta:**\n",
    "![title](img/plot.png)\n",
    "$${x_{1}\\cong0.52,x_{2}\\cong2.47}$$\n",
    "\n",
    "**C)** Proponga una ecuación equivalente y determine el intervalo de convergencia para calcular una de las raíces.\n",
    "**Respuesta:**\n",
    "$${5x-e^{x}-1=0}$$\n",
    "$${5x-e^{x}=1}$$\n",
    "$${5x=1+e^{x}}$$\n",
    "$${x=\\dfrac{1+e^{x}}{5}}$$\n",
    "\n",
    "**D)** Elija un valor inicial y realice 5 iteraciones. En cada iteración verifique que se cumple la condición de convergencia del punto fijo y estime el error de truncamiento del último resultado.\n",
    "**Respuesta:**\n",
    "Se utiliza como valor inicial x = 0.52."
   ]
  },
  {
   "cell_type": "code",
   "execution_count": 4,
   "metadata": {},
   "outputs": [
    {
     "name": "stdout",
     "output_type": "stream",
     "text": [
      "---------------------------------------------------------------------------\n",
      " x                    Error                f(x)                \n",
      "---------------------------------------------------------------------------\n",
      " 0.520000000000000    100.000000000000000  0.536405529939777   \n",
      " 0.536405529939777    3.058419241430853    0.541969959842813   \n",
      " 0.541969959842813    1.026704488316951    0.543878131734129   \n",
      " 0.543878131734129    0.350845489086371    0.544534936768303   \n",
      " 0.544534936768303    0.120617611437667    0.544761303380448   \n",
      " 0.544761303380448    0.041553357542246    0.544839354662462   \n",
      "---------------------------------------------------------------------------\n"
     ]
    }
   ],
   "source": [
    "f <- function(x) (1+exp(x))/5\n",
    "puntofijo <- function(g,x0,maxIter=5){\n",
    "\ti <- 1\n",
    "\terror <- vector()\n",
    "\terror[1] <- 100\n",
    "\tx <- vector()\n",
    "\tx[1] = x0\n",
    "\n",
    "\tfor(k in 1:maxIter){\n",
    "\t\tx[i+1] = g(x[i])\n",
    "\t\terror[i+1] = abs(x[i+1]-x[i])*100/x[i+1]\n",
    "\t\ti = i +1 \n",
    "\t}\n",
    "\t\n",
    "\tcat(\"---------------------------------------------------------------------------\\n\")\n",
    "\tcat(formatC( c(\" x\",\" Error\",\" f(x)\"), width = -20, format = \"f\", flag = \" \"), \"\\n\")\n",
    "\tcat(\"---------------------------------------------------------------------------\\n\")\n",
    "\tfor(j in 1:i){\n",
    "\t\tcat(formatC( c(x[j] ,error[j], g(x[j])), digits=15, width = -20, format = \"f\", flag = \" \"), \"\\n\")\t\t\n",
    "\t}\n",
    "\tcat(\"---------------------------------------------------------------------------\\n\")\n",
    "}\n",
    "options(digits = 15)\n",
    "puntofijo(f,0.52)"
   ]
  },
  {
   "cell_type": "markdown",
   "metadata": {},
   "source": [
    "Como se observa este método necesita de más iteraciones y de un valor inicial muy cerca del esperado para arrojar buenos resultados. Con 5 iteraciones se llega a un resultado con un error de truncamiento muy grande y un resultado bastante alejado del esperado."
   ]
  }
 ],
 "metadata": {
  "kernelspec": {
   "display_name": "R",
   "language": "R",
   "name": "ir"
  },
  "language_info": {
   "codemirror_mode": "r",
   "file_extension": ".r",
   "mimetype": "text/x-r-source",
   "name": "R",
   "pygments_lexer": "r",
   "version": "3.4.3"
  }
 },
 "nbformat": 4,
 "nbformat_minor": 2
}
