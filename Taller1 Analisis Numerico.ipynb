{
 "cells": [
  {
   "cell_type": "markdown",
   "metadata": {},
   "source": [
    "# Método de aproximación de raíces\n",
    "\n",
    "##Presentado por: David Alejandro Molano Vásquez\n",
    "\n",
    "####Viernes 27 de Julio de 2018\n",
    "\n",
    "#####1 Introducción\n",
    "\n",
    "Encontrar las raíces de una ecuación es uno de los procedimientos básicos mas importantes que se deben desarrollar en ingeniería. Existe una gran diversidad de métodos que permiten encontrar puntos en los cuales una función $\\mathbf{f(x)}$ corta el eje de las $\\mathbf{x}$ . Lo importante a notar en la utilización de estos métodos, es la eficiencia que tienen en términos computacionales. En el presente informe se presenta una optimización del método de bisección para obtener las raíces de una función, de tal forma que pueda ser mucho mas eficiente a nivel computacional.\n",
    "\n",
    "#####2 Método de Bisección\n",
    "\n",
    "Este método consiste en bisecar un intervalo $\\mathrm{\\mathbf{[a,b]}}$ en el cual la función a estudiar sea continua, de tal forma que queden dos segmentos iguales. Luego se divide repetidamente el intervalo en subintervalos, conservando el subintervalo en el que $\\mathbf{f(x)}$ cambia de signo para retener por lo menos una raíz y repetir este procedimiento las veces que sean necesarias, hasta conseguir que el tamaño del subintervalo que contenga la raíz sea menor que el nivel de tolerancia establecido.\n",
    "\n",
    "######2.1 Condición de parada\n",
    "\n",
    "Para detener la ejecución del algoritmo lo mas común es elegir un numero máximo de iteraciones permitidas, de esta manera se impide que el algoritmo entre en un ciclo infinito, en caso de que la sucesión que se esta calculando sea divergente.\n",
    "\n",
    "######2.2 Optimización del método de bisección \n",
    "\n",
    "Partiendo de la premisa del método de bisección en el que podemos dividir a la mitad el subintervalo, se puede suponer que dicho intervalo se puede dividir en mas particiones. Definiendo $\\mathbf{\\mathrm{k}=}2,3,4...$ como el numero de particiones en el intervalo, $\\mathrm{n}\\geq1$ como el numero de iteraciones del intervalo, $\\epsilon$ como el nivel de tolerancia aceptado de la aproximación y $\\mathrm{a,}\\mathrm{b}$ los limites del intervalo estudiado se puede definir la siguiente desigualdad para estimar el numero de iteraciones segun el numero de particiones: $$\\mathrm{n\\leq\\frac{\\log(\\frac{\\epsilon}{b-a})}{\\log(k)}}$$\n",
    "\n",
    "Por la inecuación anterior, cuando $\\mathrm{k\\gg\\infty}$ el numero de iteraciones requeridas para encontrar la raíz de la función estudiada disminuirá. Por ejemplo la biseccion, con $\\mathrm{k=2}$ necesitara de mas iteraciones que la trisección con $\\mathrm{k=3}$."
   ]
  },
  {
   "cell_type": "code",
   "execution_count": 2,
   "metadata": {},
   "outputs": [
    {
     "name": "stdout",
     "output_type": "stream",
     "text": [
      "Ingrese limite inferior\n",
      "-10\n",
      "Ingrese limite superior\n",
      "10\n",
      "Ingrese numero de particiones\n",
      "4\n",
      "Raiz de la funcion f(x)= x**3: 4.4408920985e-15\n"
     ]
    }
   ],
   "source": [
    "import math as mt\n",
    "import numpy as  np\n",
    "def f(x): return x**3\n",
    "\n",
    "def nseccion(a,b,n):\n",
    "  ep = 10e-15 #nivel de tolerancia\n",
    "  nmax = mt.fabs(mt.log(ep/mt.fabs(b-a))/mt.log(n)) #numero de iteraciones\n",
    "  Nmax = mt.ceil(nmax) #numero de iteraciones a entero\n",
    "  j = 0\n",
    "  i = 0\n",
    "  while abs(b-a) > ep: #se itera mientras se llega al nivel de tolerancia deseado\n",
    "    for j in range(Nmax):\n",
    "      x = np.linspace(b,a,n+1) #dividir el intervalo en n secciones (n+1 por indezacion)\n",
    "      for i in range(n):\n",
    "        if f(x[i])*f(x[i+1]) <= 0: #cuando ocurre un cambio de signo\n",
    "          tempa = x[i] #limite inferior del intervalo\n",
    "          tempb = x[i+1] #limite superior del intervalo\n",
    "    a = tempa #actualizar los valores de los limites\n",
    "    b = tempb\n",
    "  raiz = a #la raiz calculada sera aquella a la que converja la sucesion\n",
    "  return raiz\n",
    "\n",
    "print('Ingrese limite inferior')\n",
    "b = int(input())\n",
    "print('Ingrese limite superior')\n",
    "a = int(input())\n",
    "print('Ingrese numero de particiones')\n",
    "n = int(input())\n",
    "raiz = nseccion(a,b,n)\n",
    "print('Raiz de la funcion f(x)= x**3: ' + str(raiz))\n",
    "\n"
   ]
  },
  {
   "cell_type": "markdown",
   "metadata": {},
   "source": [
    "####Bibliografía\n",
    "#####-Molina Villa, Freddy Alberto, Desarrollos alternativos en Raíces de Ecuaciones.. PROSPECTIVA [en linea] 2005, 3 (Enero-Junio) : [Fecha de consulta: 26 de julio de 2018] Disponible en:<http://www.redalyc.org/articulo.oa?id=496251105008> ISSN 1692-8261 \n",
    "#####-No Registra autores, CURSO DE METODOS NUMERICOS SEGUNDA PARTE SOLUCION APROXIMADA DE ECUACIONES DE UNA VARIABLE : [Fecha de consulta: 26 de julio de 2018] Disponible en: <http://www.ehu.eus/~mepmufov/html/Parte2.pdf>"
   ]
  }
 ],
 "metadata": {
  "kernelspec": {
   "display_name": "Python 3",
   "language": "python",
   "name": "python3"
  },
  "language_info": {
   "codemirror_mode": {
    "name": "ipython",
    "version": 3
   },
   "file_extension": ".py",
   "mimetype": "text/x-python",
   "name": "python",
   "nbconvert_exporter": "python",
   "pygments_lexer": "ipython3",
   "version": "3.6.5"
  }
 },
 "nbformat": 4,
 "nbformat_minor": 2
}
